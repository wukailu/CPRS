{
 "cells": [
  {
   "cell_type": "code",
   "execution_count": 2,
   "metadata": {},
   "outputs": [],
   "source": [
    "import requests\n",
    "import bs4\n",
    "import scipy.io as scio\n",
    "import numpy as np\n",
    "import pandas as pd\n",
    "import matplotlib.pyplot as plt"
   ]
  },
  {
   "cell_type": "code",
   "execution_count": 3,
   "metadata": {},
   "outputs": [
    {
     "name": "stderr",
     "output_type": "stream",
     "text": [
      "c:\\softwaress\\tools\\python3\\lib\\site-packages\\sklearn\\cross_validation.py:41: DeprecationWarning: This module was deprecated in version 0.18 in favor of the model_selection module into which all the refactored classes and functions are moved. Also note that the interface of the new CV iterators are different from that of this module. This module will be removed in 0.20.\n",
      "  \"This module will be removed in 0.20.\", DeprecationWarning)\n"
     ]
    }
   ],
   "source": [
    "import numpy as np\n",
    "import pandas as pd\n",
    "import progressbar\n",
    "from sklearn import cross_validation as cv\n",
    "from sklearn.model_selection import train_test_split\n",
    "import random\n",
    "from surprise import NMF\n",
    "from surprise import KNNBaseline\n",
    "from surprise import KNNWithMeans\n",
    "from surprise import BaselineOnly\n",
    "from surprise import NormalPredictor\n",
    "from surprise import SVD\n",
    "from surprise import Dataset\n",
    "from surprise import Reader\n",
    "from surprise.model_selection import cross_validate\n",
    "from surprise.model_selection import train_test_split"
   ]
  },
  {
   "cell_type": "markdown",
   "metadata": {},
   "source": [
    "# 一些需要调用的函数"
   ]
  },
  {
   "cell_type": "code",
   "execution_count": 4,
   "metadata": {},
   "outputs": [],
   "source": [
    "path = \"C:/Users/wkl31415926/OneDrive/Projects/CPRS/process/\""
   ]
  },
  {
   "cell_type": "markdown",
   "metadata": {},
   "source": [
    "### 将一个matrix转为DataSet格式(没有值的地方为NaN)"
   ]
  },
  {
   "cell_type": "code",
   "execution_count": 4,
   "metadata": {},
   "outputs": [],
   "source": [
    "def matrix_to_col_dataSet(matrix, reader):\n",
    "    ret = []\n",
    "    for idx_r,r in enumerate(matrix):\n",
    "        for idx_c,c in enumerate(r):\n",
    "            if not np.isnan(c):\n",
    "                ret.append([idx_r,idx_c,c])\n",
    "    ret = pd.DataFrame(ret)\n",
    "    ret.columns = ['userID', 'itemID', 'rating']\n",
    "    return Dataset.load_from_df(ret[['userID', 'itemID', 'rating']], reader)"
   ]
  },
  {
   "cell_type": "markdown",
   "metadata": {},
   "source": [
    "## 爬虫部分"
   ]
  },
  {
   "cell_type": "markdown",
   "metadata": {},
   "source": [
    "### 对于题目难度的估价"
   ]
  },
  {
   "cell_type": "code",
   "execution_count": 5,
   "metadata": {},
   "outputs": [],
   "source": [
    "def hardness(problemid,score,solvetime):\n",
    "    if solvetime == None:\n",
    "        return np.nan\n",
    "    solvetime = int(solvetime[:2])*60+int(solvetime[3:])\n",
    "    return int(solvetime)\n"
   ]
  },
  {
   "cell_type": "markdown",
   "metadata": {},
   "source": [
    "### 获取某个页面的数据"
   ]
  },
  {
   "cell_type": "code",
   "execution_count": 6,
   "metadata": {},
   "outputs": [],
   "source": [
    "def getTab(url):\n",
    "    r = requests.get(url)\n",
    "    soup = bs4.BeautifulSoup(r.text,'lxml')\n",
    "    datas = []\n",
    "    ptitle = []\n",
    "    for ths in  soup.tr(\"th\")[4:]:\n",
    "        ptitle += [ths.a[\"title\"][4:]]\n",
    "    \n",
    "    for tr in soup(participantid = True):\n",
    "        tds = tr(\"td\")\n",
    "        ret = []\n",
    "        ret += [tds[1].get_text(strip=True)]\n",
    "        ret += [int(tds[2].get_text(strip=True))]\n",
    "        ret += [tds[3].get_text(strip=True)+\"\"]\n",
    "        for i in range(4,len(tds)):\n",
    "            ret += [hardness(i,\n",
    "                            tds[i](class_=\"cell-passed-system-test\")[0].get_text(strip=True) \n",
    "                            if len(tds[i](class_=\"cell-passed-system-test\")) != 0 \n",
    "                            else None,\n",
    "                            tds[i](class_=\"cell-time\")[0].get_text(strip=True) \n",
    "                            if len(tds[i](class_=\"cell-time\")) !=0 \n",
    "                            else None )]\n",
    "        datas += [ret]\n",
    "    \n",
    "    for j, line in enumerate(datas):\n",
    "        temp = []\n",
    "        for i in range(3,3+len(ptitle)):\n",
    "            if not np.isnan(line[i]):\n",
    "                temp += [[i,line[i]]]\n",
    "        temp = sorted(temp, key=lambda x:x[1] )\n",
    "        for i in reversed(range(1,len(temp))):\n",
    "            temp[i][1]-=temp[i-1][1]\n",
    "        for item in temp:\n",
    "            line[item[0]]=item[1]\n",
    "        datas[j] = line\n",
    "\n",
    "    return datas,ptitle"
   ]
  },
  {
   "cell_type": "markdown",
   "metadata": {},
   "source": [
    "### 获取一场比赛的所有数据 传入比赛id"
   ]
  },
  {
   "cell_type": "code",
   "execution_count": 7,
   "metadata": {},
   "outputs": [],
   "source": [
    "# contest id\n",
    "def getAll(contest_id):\n",
    "    print(\"starting to get Contest \"+str(contest_id))\n",
    "    url = \"http://codeforces.com/contest/\"+str(contest_id)+\"/standings\"\n",
    "    r = requests.get(url)\n",
    "    soup = bs4.BeautifulSoup(r.text,'lxml')\n",
    "    lens = len(soup(\"nobr\"))\n",
    "    ret,title = getTab(url)\n",
    "    for i in range(2,lens+1):\n",
    "        print(\"%\"+str((i-1)/lens*100)+\" finished\")\n",
    "        nret,_ = getTab(url + \"/page/\" + str(i))\n",
    "        ret += nret\n",
    "    print(\"all finished\")\n",
    "    return ret,title"
   ]
  },
  {
   "cell_type": "markdown",
   "metadata": {},
   "source": [
    "### 获取多场比赛的数据，保存为pands，行为选手，纵为题目，NaN为没做\n",
    "### 传入的contest_id为一个list\n",
    "### 返回三个内容 problem_names(list),user_names(list),datafile"
   ]
  },
  {
   "cell_type": "code",
   "execution_count": 25,
   "metadata": {},
   "outputs": [],
   "source": [
    "def getRound(contest_id):\n",
    "    user = []\n",
    "    prb = []\n",
    "    df = []\n",
    "    for i in contest_id:\n",
    "        data = []\n",
    "        title = []\n",
    "        error_cnt = 0\n",
    "        while True:\n",
    "            error_cnt = error_cnt+1\n",
    "            if error_cnt == 10:\n",
    "                print(\"Error=================================================!!!!!!!!!!!!!!!!!!!!!!!!!!!\");\n",
    "                break;\n",
    "            try:\n",
    "                data,title = getAll(int(i))\n",
    "            except Exception:\n",
    "                print(\"Exception!\");\n",
    "            else:\n",
    "                break;\n",
    "        prb += title\n",
    "        for i in range(len(data)):\n",
    "            user.append(data[i][0])\n",
    "            temp = data[i][-len(title):]\n",
    "            for j in range(len(temp)):\n",
    "                if not np.isnan(temp[j]) and temp[j]!=0:\n",
    "                    df.append([data[i][0],title[j],temp[j]])\n",
    "    df = pd.DataFrame(df)\n",
    "    df.columns = ['user_name', 'prb_name', 'time'];\n",
    "    user = list(set(user))\n",
    "    prb = list(set(prb))\n",
    "    return prb,user,df"
   ]
  },
  {
   "cell_type": "markdown",
   "metadata": {},
   "source": [
    "### 获取所有数据"
   ]
  },
  {
   "cell_type": "code",
   "execution_count": 1,
   "metadata": {
    "collapsed": true
   },
   "outputs": [
    {
     "ename": "NameError",
     "evalue": "name 'pd' is not defined",
     "output_type": "error",
     "traceback": [
      "\u001b[1;31m---------------------------------------------------------------------------\u001b[0m",
      "\u001b[1;31mNameError\u001b[0m                                 Traceback (most recent call last)",
      "\u001b[1;32m<ipython-input-1-d58be6985584>\u001b[0m in \u001b[0;36m<module>\u001b[1;34m()\u001b[0m\n\u001b[1;32m----> 1\u001b[1;33m \u001b[0mtrain\u001b[0m \u001b[1;33m=\u001b[0m \u001b[0mpd\u001b[0m\u001b[1;33m.\u001b[0m\u001b[0mread_csv\u001b[0m\u001b[1;33m(\u001b[0m\u001b[0mpath\u001b[0m\u001b[1;33m+\u001b[0m\u001b[1;34m\"train_round.csv\"\u001b[0m\u001b[1;33m)\u001b[0m\u001b[1;33m\u001b[0m\u001b[0m\n\u001b[0m\u001b[0;32m      2\u001b[0m \u001b[0mtest\u001b[0m \u001b[1;33m=\u001b[0m \u001b[0mpd\u001b[0m\u001b[1;33m.\u001b[0m\u001b[0mread_csv\u001b[0m\u001b[1;33m(\u001b[0m\u001b[0mpath\u001b[0m\u001b[1;33m+\u001b[0m\u001b[1;34m\"test_round.csv\"\u001b[0m\u001b[1;33m)\u001b[0m\u001b[1;33m\u001b[0m\u001b[0m\n",
      "\u001b[1;31mNameError\u001b[0m: name 'pd' is not defined"
     ]
    }
   ],
   "source": [
    "train = pd.read_csv(path+\"train_round.csv\")\n",
    "test = pd.read_csv(path+\"test_round.csv\")"
   ]
  },
  {
   "cell_type": "code",
   "execution_count": 6,
   "metadata": {
    "collapsed": true
   },
   "outputs": [
    {
     "ename": "NameError",
     "evalue": "name 'getRound' is not defined",
     "output_type": "error",
     "traceback": [
      "\u001b[1;31m---------------------------------------------------------------------------\u001b[0m",
      "\u001b[1;31mNameError\u001b[0m                                 Traceback (most recent call last)",
      "\u001b[1;32m<ipython-input-6-b7eb3b08bbb2>\u001b[0m in \u001b[0;36m<module>\u001b[1;34m()\u001b[0m\n\u001b[1;32m----> 1\u001b[1;33m \u001b[0mprb\u001b[0m\u001b[1;33m,\u001b[0m\u001b[0muser\u001b[0m\u001b[1;33m,\u001b[0m\u001b[0mdf\u001b[0m \u001b[1;33m=\u001b[0m \u001b[0mgetRound\u001b[0m\u001b[1;33m(\u001b[0m\u001b[0mlist\u001b[0m\u001b[1;33m(\u001b[0m\u001b[0mtrain\u001b[0m\u001b[1;33m.\u001b[0m\u001b[0mvalues\u001b[0m\u001b[1;33m)\u001b[0m\u001b[1;33m+\u001b[0m\u001b[0mlist\u001b[0m\u001b[1;33m(\u001b[0m\u001b[0mtest\u001b[0m\u001b[1;33m.\u001b[0m\u001b[0mvalues\u001b[0m\u001b[1;33m)\u001b[0m\u001b[1;33m)\u001b[0m\u001b[1;33m\u001b[0m\u001b[0m\n\u001b[0m\u001b[0;32m      2\u001b[0m \u001b[0mdf\u001b[0m\u001b[1;33m.\u001b[0m\u001b[0mto_csv\u001b[0m\u001b[1;33m(\u001b[0m\u001b[0mpath\u001b[0m\u001b[1;33m+\u001b[0m\u001b[1;34m\"all_data.csv\"\u001b[0m\u001b[1;33m)\u001b[0m\u001b[1;33m\u001b[0m\u001b[0m\n\u001b[0;32m      3\u001b[0m \u001b[0mpd\u001b[0m\u001b[1;33m.\u001b[0m\u001b[0mDataFrame\u001b[0m\u001b[1;33m(\u001b[0m\u001b[0mprb\u001b[0m\u001b[1;33m)\u001b[0m\u001b[1;33m.\u001b[0m\u001b[0mto_csv\u001b[0m\u001b[1;33m(\u001b[0m\u001b[0mpath\u001b[0m\u001b[1;33m+\u001b[0m\u001b[1;34m\"prb.csv\"\u001b[0m\u001b[1;33m)\u001b[0m\u001b[1;33m\u001b[0m\u001b[0m\n\u001b[0;32m      4\u001b[0m \u001b[0mpd\u001b[0m\u001b[1;33m.\u001b[0m\u001b[0mDataFrame\u001b[0m\u001b[1;33m(\u001b[0m\u001b[0muser\u001b[0m\u001b[1;33m)\u001b[0m\u001b[1;33m.\u001b[0m\u001b[0mto_csv\u001b[0m\u001b[1;33m(\u001b[0m\u001b[0mpath\u001b[0m\u001b[1;33m+\u001b[0m\u001b[1;34m\"user.csv\"\u001b[0m\u001b[1;33m)\u001b[0m\u001b[1;33m\u001b[0m\u001b[0m\n",
      "\u001b[1;31mNameError\u001b[0m: name 'getRound' is not defined"
     ]
    }
   ],
   "source": [
    "prb,user,df = getRound(list(train.values)+list(test.values))\n",
    "df.to_csv(path+\"all_data.csv\")\n",
    "pd.DataFrame(prb).to_csv(path+\"prb.csv\")\n",
    "pd.DataFrame(user).to_csv(path+\"user.csv\")"
   ]
  },
  {
   "cell_type": "markdown",
   "metadata": {},
   "source": [
    "## 数据获取完毕，开始处理"
   ]
  },
  {
   "cell_type": "code",
   "execution_count": 5,
   "metadata": {
    "scrolled": true
   },
   "outputs": [],
   "source": [
    "df = pd.read_csv(path+\"all_data.csv\")\n",
    "df = df[['user_name', 'prb_name', 'time']]"
   ]
  },
  {
   "cell_type": "markdown",
   "metadata": {},
   "source": [
    "### 清洗一下，去除没有做题的人"
   ]
  },
  {
   "cell_type": "code",
   "execution_count": 6,
   "metadata": {},
   "outputs": [],
   "source": [
    "#统计一个序列里每个值的出现次数,返回一个字典\n",
    "def build_dic(arr):\n",
    "    ret = {}\n",
    "    for i in arr:\n",
    "        if not i in ret:\n",
    "            ret[i] = 1\n",
    "        else:\n",
    "            ret[i] = ret[i]+1\n",
    "    return ret"
   ]
  },
  {
   "cell_type": "code",
   "execution_count": 7,
   "metadata": {},
   "outputs": [],
   "source": [
    "user = build_dic(df[\"user_name\"].values)\n",
    "prb = build_dic(df[\"prb_name\"].values)\n",
    "ret = []\n",
    "threhold = 1\n",
    "for index, row in df.iterrows():\n",
    "    if user[row[\"user_name\"]] >= threhold and prb[row[\"prb_name\"]] >= threhold*10 :\n",
    "        ret.append(list(row))\n",
    "ret = pd.DataFrame(ret)\n",
    "ret.columns = df.columns\n",
    "df = ret"
   ]
  },
  {
   "cell_type": "code",
   "execution_count": 9,
   "metadata": {
    "scrolled": true
   },
   "outputs": [
    {
     "name": "stdout",
     "output_type": "stream",
     "text": [
      "users: 34635 problems: 235 Messages: 302835\n"
     ]
    }
   ],
   "source": [
    "print(\"users: \"+str( len(set(df[\"user_name\"].values)) ) + \" problems: \"+ str( len(set(df[\"prb_name\"].values)) ) + \" Messages: \"+ str(df.shape[0]) )\n"
   ]
  },
  {
   "cell_type": "markdown",
   "metadata": {},
   "source": [
    "### 统计分析"
   ]
  },
  {
   "cell_type": "markdown",
   "metadata": {},
   "source": [
    "* 每个人做题数量分布"
   ]
  },
  {
   "cell_type": "code",
   "execution_count": 9,
   "metadata": {
    "scrolled": true
   },
   "outputs": [
    {
     "data": {
      "image/png": "[encoded data removed]",
      "text/plain": [
       "<Figure size 432x288 with 1 Axes>"
      ]
     },
     "metadata": {},
     "output_type": "display_data"
    }
   ],
   "source": [
    "pd.Series(dict(pd.Series(list(user.values())).value_counts(sort = True, normalize = False))).plot( \n",
    "    title = \"Number of solved problems of each person\")\n",
    "plt.xlabel(\"Solved problems\")\n",
    "plt.ylabel(\"Number of people\")\n",
    "plt.show()"
   ]
  },
  {
   "cell_type": "code",
   "execution_count": 10,
   "metadata": {},
   "outputs": [
    {
     "data": {
      "image/png": "[encoded data removed]",
      "text/plain": [
       "<Figure size 432x288 with 1 Axes>"
      ]
     },
     "metadata": {},
     "output_type": "display_data"
    }
   ],
   "source": [
    "pd.Series(dict(pd.Series(list(user.values())).value_counts(sort = True, normalize = False))).plot( \n",
    "    title = \"Number of solved problems of each person\",logy = True)\n",
    "plt.xlabel(\"Solved problems\")\n",
    "plt.ylabel(\"Number of people\")\n",
    "plt.show()"
   ]
  },
  {
   "cell_type": "code",
   "execution_count": 11,
   "metadata": {},
   "outputs": [
    {
     "data": {
      "image/png": "[encoded data removed]",
      "text/plain": [
       "<Figure size 432x288 with 1 Axes>"
      ]
     },
     "metadata": {},
     "output_type": "display_data"
    }
   ],
   "source": [
    "pd.Series( sorted( list(prb.values()) , reverse = True) ).plot( \n",
    "    title = \"Number of accept for solved problems\", logy = True)\n",
    "plt.xlabel(\"problem\")\n",
    "plt.ylabel(\"Number of accepts\")\n",
    "plt.show()"
   ]
  },
  {
   "cell_type": "code",
   "execution_count": 12,
   "metadata": {},
   "outputs": [
    {
     "data": {
      "image/png": "[encoded data removed]",
      "text/plain": [
       "<Figure size 432x288 with 1 Axes>"
      ]
     },
     "metadata": {},
     "output_type": "display_data"
    }
   ],
   "source": [
    "pd.Series( sorted( list(prb.values()) , reverse = True) ).plot( \n",
    "    title = \"Number of accept for solved problems\", logy = False)\n",
    "plt.xlabel(\"problem\")\n",
    "plt.ylabel(\"Number of accepts\")\n",
    "plt.show()"
   ]
  },
  {
   "cell_type": "markdown",
   "metadata": {},
   "source": [
    "### 开始给用户和题目标号"
   ]
  },
  {
   "cell_type": "code",
   "execution_count": 8,
   "metadata": {},
   "outputs": [],
   "source": [
    "user_id = {}\n",
    "cnt = 0\n",
    "\n",
    "for i in user.keys():\n",
    "    user_id[i]=cnt\n",
    "    cnt = cnt+1\n",
    "\n",
    "prb_id = {}\n",
    "cnt = 0\n",
    "for i in prb.keys():\n",
    "    prb_id[i]=cnt\n",
    "    cnt = cnt+1\n",
    "\n",
    "ret = []\n",
    "for index, row in df.iterrows():\n",
    "    ret.append( [user_id[row[\"user_name\"]], prb_id[row[\"prb_name\"]], np.log(row[\"time\"]) ] )\n",
    "\n",
    "ret = pd.DataFrame(ret)\n",
    "ret.columns = df.columns\n",
    "df = ret"
   ]
  },
  {
   "cell_type": "code",
   "execution_count": 9,
   "metadata": {},
   "outputs": [],
   "source": [
    "reader = Reader(rating_scale=(0, 6))\n",
    "data = Dataset.load_from_df(df, reader)\n",
    "trainset, testset = train_test_split(data, test_size=0.2)"
   ]
  },
  {
   "cell_type": "markdown",
   "metadata": {},
   "source": [
    "* 评估获得答案并且评估结果"
   ]
  },
  {
   "cell_type": "code",
   "execution_count": 10,
   "metadata": {},
   "outputs": [],
   "source": [
    "def evaluate(algo, trainset, testset):\n",
    "    algo.fit(trainset)\n",
    "    ret = algo.fit(trainset).test(testset)\n",
    "    ret = pd.DataFrame(ret)\n",
    "    delta = np.array(ret[\"r_ui\"]) - np.array(ret[\"est\"])\n",
    "    print(\"MAE = \" + str(np.mean(np.abs(delta))) )\n",
    "    plt.hist(delta, bins = 100)\n",
    "    f = np.array(ret[\"r_ui\"]) / np.array(ret[\"est\"])\n",
    "    t = np.exp( np.array(ret[\"r_ui\"]) ) / np.exp( np.array(ret[\"est\"]) ) \n",
    "    d = np.exp( np.array(ret[\"r_ui\"]) ) - np.exp( np.array(ret[\"est\"]) ) \n",
    "    d = np.abs(d)\n",
    "    print(\"for eps = 0.3 result:\" + str( sum( (f<=1.3)&(f>=0.7)  ) / len(t) ))\n",
    "    print(\"for eps1 = 0.3 eps2 = 2 : result:\" + str( sum( (t<=1.3)&(t>=0.7)|(d<=2)  ) / len(t) ))\n",
    "    print(\"average error on time: \" + str(np.mean(d) ) )\n",
    "    return "
   ]
  },
  {
   "cell_type": "code",
   "execution_count": 11,
   "metadata": {
    "scrolled": false
   },
   "outputs": [
    {
     "name": "stdout",
     "output_type": "stream",
     "text": [
      "MAE = 0.5553558734005746\n",
      "for eps = 0.3 result:0.77269800386349\n",
      "for eps1 = 0.3 eps2 = 2 : result:0.3592385292320901\n",
      "average error on time: 13.38405573424549\n"
     ]
    },
    {
     "data": {
      "image/png": "[encoded data removed]",
      "text/plain": [
       "<Figure size 432x288 with 1 Axes>"
      ]
     },
     "metadata": {},
     "output_type": "display_data"
    }
   ],
   "source": [
    "algo = SVD(n_factors = 70, n_epochs = 350, reg_all = 0.04);\n",
    "evaluate(algo, trainset, testset)"
   ]
  },
  {
   "cell_type": "code",
   "execution_count": 17,
   "metadata": {},
   "outputs": [
    {
     "name": "stdout",
     "output_type": "stream",
     "text": [
      "MAE = 1.145729484253205\n"
     ]
    },
    {
     "name": "stderr",
     "output_type": "stream",
     "text": [
      "c:\\softwaress\\tools\\python3\\lib\\site-packages\\ipykernel_launcher.py:8: RuntimeWarning: divide by zero encountered in true_divide\n",
      "  \n"
     ]
    },
    {
     "name": "stdout",
     "output_type": "stream",
     "text": [
      "for eps = 0.3 result:0.43503937007874016\n",
      "for eps1 = 0.3 eps2 = 2 : result:0.17217542574620032\n"
     ]
    },
    {
     "data": {
      "image/png": "[encoded data removed]",
      "text/plain": [
       "<Figure size 432x288 with 1 Axes>"
      ]
     },
     "metadata": {},
     "output_type": "display_data"
    }
   ],
   "source": [
    "algo = NormalPredictor()\n",
    "evaluate(algo, trainset, testset)"
   ]
  },
  {
   "cell_type": "code",
   "execution_count": 18,
   "metadata": {},
   "outputs": [
    {
     "name": "stdout",
     "output_type": "stream",
     "text": [
      "Estimating biases using als...\n",
      "Estimating biases using als...\n",
      "MAE = 0.5341110136229735\n",
      "for eps = 0.3 result:0.7798937923457242\n",
      "for eps1 = 0.3 eps2 = 2 : result:0.3836064823292437\n"
     ]
    },
    {
     "data": {
      "image/png": "[encoded data removed]",
      "text/plain": [
       "<Figure size 432x288 with 1 Axes>"
      ]
     },
     "metadata": {},
     "output_type": "display_data"
    }
   ],
   "source": [
    "algo = BaselineOnly()\n",
    "evaluate(algo, trainset, testset)"
   ]
  },
  {
   "cell_type": "code",
   "execution_count": 19,
   "metadata": {},
   "outputs": [
    {
     "name": "stdout",
     "output_type": "stream",
     "text": [
      "MAE = 0.5174358623969241\n",
      "for eps = 0.3 result:0.7949322468412379\n",
      "for eps1 = 0.3 eps2 = 2 : result:0.3956464017579198\n"
     ]
    },
    {
     "data": {
      "image/png": "[encoded data removed]",
      "text/plain": [
       "<Figure size 432x288 with 1 Axes>"
      ]
     },
     "metadata": {},
     "output_type": "display_data"
    }
   ],
   "source": [
    "algo = SVD()\n",
    "evaluate(algo, trainset, testset)"
   ]
  },
  {
   "cell_type": "code",
   "execution_count": 20,
   "metadata": {},
   "outputs": [
    {
     "name": "stdout",
     "output_type": "stream",
     "text": [
      "Computing the msd similarity matrix...\n",
      "Done computing similarity matrix.\n",
      "Computing the msd similarity matrix...\n",
      "Done computing similarity matrix.\n",
      "MAE = 0.5790294008411188\n",
      "for eps = 0.3 result:0.7448956235121773\n",
      "for eps1 = 0.3 eps2 = 2 : result:0.35316334004761035\n"
     ]
    },
    {
     "data": {
      "image/png": "[encoded data removed]",
      "text/plain": [
       "<Figure size 432x288 with 1 Axes>"
      ]
     },
     "metadata": {},
     "output_type": "display_data"
    }
   ],
   "source": [
    "algo = KNNWithMeans()\n",
    "evaluate(algo, trainset, testset)"
   ]
  },
  {
   "cell_type": "markdown",
   "metadata": {},
   "source": [
    "# 最终为选手推荐题目，给出选手用户名，推荐前十道题"
   ]
  },
  {
   "cell_type": "code",
   "execution_count": 16,
   "metadata": {},
   "outputs": [],
   "source": [
    "#获取需要的推荐\n",
    "#fitted_algo 传入一个已经fit过的algo\n",
    "#username 用户名\n",
    "#expect_time 期望的做题时间\n",
    "#problem_number 期望的题目数量\n",
    "def get_suggest(fitted_algo, username, expect_time = 40, problem_number = 10):\n",
    "    username = user_id.get(username);\n",
    "    if(username == None):\n",
    "        return [\"Username Error!\"];\n",
    "    ept = np.log(expect_time)\n",
    "    ans = []\n",
    "    temp = list(prb_id.keys())\n",
    "    for i in range(len(prb_id)):\n",
    "        ret = pd.DataFrame([algo.predict(username, i, clip = False)])\n",
    "        ans.append( tuple([np.abs(ret[\"est\"][0] - ept) , temp[i]]) )\n",
    "    ans = sorted(ans)\n",
    "    ret = []\n",
    "    for i in range(problem_number):\n",
    "        ret+=[ans[i][1]]\n",
    "    ret_id = int(random.random()*len(ret));\n",
    "    return ret[ret_id];"
   ]
  },
  {
   "cell_type": "code",
   "execution_count": 231,
   "metadata": {},
   "outputs": [
    {
     "data": {
      "text/plain": [
       "<surprise.prediction_algorithms.matrix_factorization.SVD at 0x21903b1b630>"
      ]
     },
     "execution_count": 231,
     "metadata": {},
     "output_type": "execute_result"
    }
   ],
   "source": [
    "algo=SVD()\n",
    "algo.fit(trainset)"
   ]
  },
  {
   "cell_type": "code",
   "execution_count": 20,
   "metadata": {
    "scrolled": false
   },
   "outputs": [
    {
     "data": {
      "text/plain": [
       "['Ann and Books',\n",
       " 'Billiard',\n",
       " 'Shovel Sale',\n",
       " 'Binary Cards',\n",
       " 'Restoring the Expression',\n",
       " 'Pathwalks',\n",
       " 'Tournament',\n",
       " 'NN country',\n",
       " 'Game with Tokens',\n",
       " 'Elevator']"
      ]
     },
     "execution_count": 20,
     "metadata": {},
     "output_type": "execute_result"
    }
   ],
   "source": [
    "get_suggest(algo,\"PikMike\")"
   ]
  },
  {
   "cell_type": "markdown",
   "metadata": {},
   "source": [
    "## WebSocket服务器"
   ]
  },
  {
   "cell_type": "code",
   "execution_count": null,
   "metadata": {},
   "outputs": [
    {
     "name": "stdout",
     "output_type": "stream",
     "text": [
      "('127.0.0.1', 61614) connected\n",
      "('127.0.0.1', 61614) closed\n",
      "('127.0.0.1', 61667) connected\n",
      "('127.0.0.1', 61667) closed\n",
      "('127.0.0.1', 61696) connected\n",
      "('127.0.0.1', 61696) closed\n",
      "('127.0.0.1', 61733) connected\n",
      "('127.0.0.1', 61733) closed\n",
      "('127.0.0.1', 63392) connected\n",
      "('127.0.0.1', 63392) closed\n",
      "('127.0.0.1', 64634) connected\n",
      "('127.0.0.1', 64634) closed\n",
      "('127.0.0.1', 64814) connected\n",
      "('127.0.0.1', 64814) closed\n",
      "('127.0.0.1', 64964) connected\n",
      "('127.0.0.1', 64964) closed\n",
      "('127.0.0.1', 65109) connected\n",
      "('127.0.0.1', 65109) closed\n",
      "('127.0.0.1', 65526) connected\n",
      "('127.0.0.1', 65526) closed\n"
     ]
    }
   ],
   "source": [
    "from SimpleWebSocketServer import SimpleWebSocketServer, WebSocket\n",
    "\n",
    "ServerPort = 2340;\n",
    "\n",
    "class SimpleEcho(WebSocket):\n",
    "\n",
    "    def handleMessage(self):\n",
    "        # echo message back to client\n",
    "        self.sendMessage( get_suggest(algo, self.data) );\n",
    "\n",
    "    def handleConnected(self):\n",
    "        print(self.address, 'connected')\n",
    "\n",
    "    def handleClose(self):\n",
    "        print(self.address, 'closed')\n",
    "\n",
    "server = SimpleWebSocketServer('', ServerPort, SimpleEcho)\n",
    "server.serveforever()"
   ]
  }
 ],
 "metadata": {
  "kernelspec": {
   "display_name": "Python 3",
   "language": "python",
   "name": "python3"
  },
  "language_info": {
   "codemirror_mode": {
    "name": "ipython",
    "version": 3
   },
   "file_extension": ".py",
   "mimetype": "text/x-python",
   "name": "python",
   "nbconvert_exporter": "python",
   "pygments_lexer": "ipython3",
   "version": "3.6.4"
  }
 },
 "nbformat": 4,
 "nbformat_minor": 2
}
