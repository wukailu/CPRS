{
 "cells": [
  {
   "cell_type": "code",
   "execution_count": 2,
   "metadata": {},
   "outputs": [],
   "source": [
    "import requests\n",
    "import bs4\n",
    "import scipy.io as scio\n",
    "import numpy as np\n",
    "import pandas as pd\n",
    "import matplotlib.pyplot as plt"
   ]
  },
  {
   "cell_type": "code",
   "execution_count": 3,
   "metadata": {},
   "outputs": [],
   "source": [
    "path = \"C:/Users/wkl31415926/OneDrive/Projects/CPRS/datas/\""
   ]
  },
  {
   "cell_type": "markdown",
   "metadata": {},
   "source": [
    "# 爬数据"
   ]
  },
  {
   "cell_type": "markdown",
   "metadata": {},
   "source": [
    "### 对于题目难度的估价"
   ]
  },
  {
   "cell_type": "code",
   "execution_count": 4,
   "metadata": {},
   "outputs": [],
   "source": [
    "def hardness(problemid,score,solvetime):\n",
    "    if score == None:\n",
    "        return -1\n",
    "    solvetime = int(solvetime[:2])*60+int(solvetime[3:])\n",
    "    return int(solvetime)\n"
   ]
  },
  {
   "cell_type": "markdown",
   "metadata": {},
   "source": [
    "### 获取某个页面的数据"
   ]
  },
  {
   "cell_type": "code",
   "execution_count": 5,
   "metadata": {},
   "outputs": [],
   "source": [
    "def getTab(url):\n",
    "    r = requests.get(url)\n",
    "    soup = bs4.BeautifulSoup(r.text,'lxml')\n",
    "    datas = []\n",
    "    ptitle = []\n",
    "    for ths in  soup.tr(\"th\")[4:]:\n",
    "        ptitle += [ths.a[\"title\"][4:]]\n",
    "    \n",
    "    for tr in soup(participantid = True):\n",
    "        tds = tr(\"td\")\n",
    "        ret = []\n",
    "        ret += [tds[1].get_text(strip=True)]\n",
    "        ret += [int(tds[2].get_text(strip=True))]\n",
    "        ret += [tds[3].get_text(strip=True)+\"\"]\n",
    "        for i in range(4,len(tds)):\n",
    "            ret += [hardness(i,\n",
    "                            tds[i](class_=\"cell-passed-system-test\")[0].get_text(strip=True) \n",
    "                            if len(tds[i](class_=\"cell-passed-system-test\")) != 0 \n",
    "                            else None,\n",
    "                            tds[i](class_=\"cell-time\")[0].get_text(strip=True) \n",
    "                            if len(tds[i](class_=\"cell-time\")) !=0 \n",
    "                            else None )]\n",
    "        datas += [ret]\n",
    "    \n",
    "    for j, line in enumerate(datas):\n",
    "        temp = []\n",
    "        for i in range(3,3+len(ptitle)):\n",
    "            if line[i] != -1:\n",
    "                temp += [[i,line[i]]]\n",
    "        temp = sorted(temp, key=lambda x:x[1] )\n",
    "        for i in reversed(range(1,len(temp))):\n",
    "            temp[i][1]-=temp[i-1][1]\n",
    "        for item in temp:\n",
    "            line[item[0]]=item[1]\n",
    "        datas[j] = line\n",
    "\n",
    "    return datas,ptitle"
   ]
  },
  {
   "cell_type": "markdown",
   "metadata": {},
   "source": [
    "### 获取一场比赛的所有数据 传入比赛id"
   ]
  },
  {
   "cell_type": "code",
   "execution_count": 6,
   "metadata": {},
   "outputs": [],
   "source": [
    "# contest id\n",
    "def getAll(contest_id):\n",
    "    print(\"starting to get Contest \"+str(contest_id))\n",
    "    url = \"http://codeforces.com/contest/\"+str(contest_id)+\"/standings\"\n",
    "    r = requests.get(url)\n",
    "    soup = bs4.BeautifulSoup(r.text,'lxml')\n",
    "    lens = len(soup(\"nobr\"))\n",
    "    ret,title = getTab(url)\n",
    "    for i in range(2,lens+1):\n",
    "        print(\"%\"+str((i-1)/lens*100)+\" finished\")\n",
    "        nret,_ = getTab(url + \"/page/\" + str(i))\n",
    "        ret += nret\n",
    "    print(\"all finished\")\n",
    "    return ret,title"
   ]
  },
  {
   "cell_type": "markdown",
   "metadata": {},
   "source": [
    "### 获取并保存一场比赛到mat 文件"
   ]
  },
  {
   "cell_type": "code",
   "execution_count": 7,
   "metadata": {},
   "outputs": [],
   "source": [
    "def saveRound(contest_id):\n",
    "    data,title = getAll(contest_id)\n",
    "    data = np.array(data)\n",
    "    data = np.asmatrix(data)\n",
    "    dataFile = path+str(contest_id)+'.mat'\n",
    "    scio.savemat(dataFile, {str(contest_id):data})\n",
    "    with open(path+\"names.txt\",\"a\") as f:\n",
    "        print(\",\".join([str(contest_id)] + title),file = f )"
   ]
  },
  {
   "cell_type": "markdown",
   "metadata": {},
   "source": [
    "### 获取一个文件里列出的所有场次的数据 到 对应的mat文件"
   ]
  },
  {
   "cell_type": "code",
   "execution_count": 8,
   "metadata": {},
   "outputs": [],
   "source": [
    "def getAll(filePath):\n",
    "    with open(filePath,\"r\") as f:\n",
    "        while True:\n",
    "            line = f.readline()\n",
    "            if line == \"\":\n",
    "                break\n",
    "            saveRound(int(line))"
   ]
  },
  {
   "cell_type": "markdown",
   "metadata": {},
   "source": [
    "### 获取数据并整理到一个大表内，横着是一个user，竖着是一个题目，最后保存到CF.mat 和 pandas格式的CF.csv"
   ]
  },
  {
   "cell_type": "code",
   "execution_count": 9,
   "metadata": {
    "collapsed": true
   },
   "outputs": [
    {
     "ename": "OSError",
     "evalue": "[WinError 6] 句柄无效。",
     "output_type": "error",
     "traceback": [
      "\u001b[1;31m---------------------------------------------------------------------------\u001b[0m",
      "\u001b[1;31mOSError\u001b[0m                                   Traceback (most recent call last)",
      "\u001b[1;32m<ipython-input-9-cbcea0fc340c>\u001b[0m in \u001b[0;36m<module>\u001b[1;34m()\u001b[0m\n\u001b[1;32m----> 1\u001b[1;33m \u001b[0mgetAll\u001b[0m\u001b[1;33m(\u001b[0m\u001b[0mpath\u001b[0m\u001b[1;33m+\u001b[0m\u001b[1;34m\"rounds.txt\"\u001b[0m\u001b[1;33m)\u001b[0m\u001b[1;33m\u001b[0m\u001b[0m\n\u001b[0m",
      "\u001b[1;32m<ipython-input-8-eab22d35c818>\u001b[0m in \u001b[0;36mgetAll\u001b[1;34m(filePath)\u001b[0m\n\u001b[0;32m      5\u001b[0m             \u001b[1;32mif\u001b[0m \u001b[0mline\u001b[0m \u001b[1;33m==\u001b[0m \u001b[1;34m\"\"\u001b[0m\u001b[1;33m:\u001b[0m\u001b[1;33m\u001b[0m\u001b[0m\n\u001b[0;32m      6\u001b[0m                 \u001b[1;32mbreak\u001b[0m\u001b[1;33m\u001b[0m\u001b[0m\n\u001b[1;32m----> 7\u001b[1;33m             \u001b[0msaveRound\u001b[0m\u001b[1;33m(\u001b[0m\u001b[0mint\u001b[0m\u001b[1;33m(\u001b[0m\u001b[0mline\u001b[0m\u001b[1;33m)\u001b[0m\u001b[1;33m)\u001b[0m\u001b[1;33m\u001b[0m\u001b[0m\n\u001b[0m",
      "\u001b[1;32m<ipython-input-7-b867fdf60d5b>\u001b[0m in \u001b[0;36msaveRound\u001b[1;34m(contest_id)\u001b[0m\n\u001b[0;32m      1\u001b[0m \u001b[1;32mdef\u001b[0m \u001b[0msaveRound\u001b[0m\u001b[1;33m(\u001b[0m\u001b[0mcontest_id\u001b[0m\u001b[1;33m)\u001b[0m\u001b[1;33m:\u001b[0m\u001b[1;33m\u001b[0m\u001b[0m\n\u001b[1;32m----> 2\u001b[1;33m     \u001b[0mdata\u001b[0m\u001b[1;33m,\u001b[0m\u001b[0mtitle\u001b[0m \u001b[1;33m=\u001b[0m \u001b[0mgetAll\u001b[0m\u001b[1;33m(\u001b[0m\u001b[0mcontest_id\u001b[0m\u001b[1;33m)\u001b[0m\u001b[1;33m\u001b[0m\u001b[0m\n\u001b[0m\u001b[0;32m      3\u001b[0m     \u001b[0mdata\u001b[0m \u001b[1;33m=\u001b[0m \u001b[0mnp\u001b[0m\u001b[1;33m.\u001b[0m\u001b[0marray\u001b[0m\u001b[1;33m(\u001b[0m\u001b[0mdata\u001b[0m\u001b[1;33m)\u001b[0m\u001b[1;33m\u001b[0m\u001b[0m\n\u001b[0;32m      4\u001b[0m     \u001b[0mdata\u001b[0m \u001b[1;33m=\u001b[0m \u001b[0mnp\u001b[0m\u001b[1;33m.\u001b[0m\u001b[0masmatrix\u001b[0m\u001b[1;33m(\u001b[0m\u001b[0mdata\u001b[0m\u001b[1;33m)\u001b[0m\u001b[1;33m\u001b[0m\u001b[0m\n\u001b[0;32m      5\u001b[0m     \u001b[0mdataFile\u001b[0m \u001b[1;33m=\u001b[0m \u001b[0mpath\u001b[0m\u001b[1;33m+\u001b[0m\u001b[0mstr\u001b[0m\u001b[1;33m(\u001b[0m\u001b[0mcontest_id\u001b[0m\u001b[1;33m)\u001b[0m\u001b[1;33m+\u001b[0m\u001b[1;34m'.mat'\u001b[0m\u001b[1;33m\u001b[0m\u001b[0m\n",
      "\u001b[1;32m<ipython-input-8-eab22d35c818>\u001b[0m in \u001b[0;36mgetAll\u001b[1;34m(filePath)\u001b[0m\n\u001b[0;32m      1\u001b[0m \u001b[1;32mdef\u001b[0m \u001b[0mgetAll\u001b[0m\u001b[1;33m(\u001b[0m\u001b[0mfilePath\u001b[0m\u001b[1;33m)\u001b[0m\u001b[1;33m:\u001b[0m\u001b[1;33m\u001b[0m\u001b[0m\n\u001b[1;32m----> 2\u001b[1;33m     \u001b[1;32mwith\u001b[0m \u001b[0mopen\u001b[0m\u001b[1;33m(\u001b[0m\u001b[0mfilePath\u001b[0m\u001b[1;33m,\u001b[0m\u001b[1;34m\"r\"\u001b[0m\u001b[1;33m)\u001b[0m \u001b[1;32mas\u001b[0m \u001b[0mf\u001b[0m\u001b[1;33m:\u001b[0m\u001b[1;33m\u001b[0m\u001b[0m\n\u001b[0m\u001b[0;32m      3\u001b[0m         \u001b[1;32mwhile\u001b[0m \u001b[1;32mTrue\u001b[0m\u001b[1;33m:\u001b[0m\u001b[1;33m\u001b[0m\u001b[0m\n\u001b[0;32m      4\u001b[0m             \u001b[0mline\u001b[0m \u001b[1;33m=\u001b[0m \u001b[0mf\u001b[0m\u001b[1;33m.\u001b[0m\u001b[0mreadline\u001b[0m\u001b[1;33m(\u001b[0m\u001b[1;33m)\u001b[0m\u001b[1;33m\u001b[0m\u001b[0m\n\u001b[0;32m      5\u001b[0m             \u001b[1;32mif\u001b[0m \u001b[0mline\u001b[0m \u001b[1;33m==\u001b[0m \u001b[1;34m\"\"\u001b[0m\u001b[1;33m:\u001b[0m\u001b[1;33m\u001b[0m\u001b[0m\n",
      "\u001b[1;31mOSError\u001b[0m: [WinError 6] 句柄无效。"
     ]
    }
   ],
   "source": [
    "getAll(path+\"rounds.txt\")"
   ]
  },
  {
   "cell_type": "code",
   "execution_count": 6,
   "metadata": {},
   "outputs": [
    {
     "data": {
      "text/html": [
       "<div>\n",
       "<style scoped>\n",
       "    .dataframe tbody tr th:only-of-type {\n",
       "        vertical-align: middle;\n",
       "    }\n",
       "\n",
       "    .dataframe tbody tr th {\n",
       "        vertical-align: top;\n",
       "    }\n",
       "\n",
       "    .dataframe thead th {\n",
       "        text-align: right;\n",
       "    }\n",
       "</style>\n",
       "<table border=\"1\" class=\"dataframe\">\n",
       "  <thead>\n",
       "    <tr style=\"text-align: right;\">\n",
       "      <th></th>\n",
       "      <th>Check the string</th>\n",
       "      <th>Minimize the error</th>\n",
       "      <th>Subsequence Counting</th>\n",
       "      <th>Full Binary Tree Queries</th>\n",
       "      <th>Alternating Tree</th>\n",
       "      <th>Pathwalks</th>\n",
       "      <th>Bandit Blues</th>\n",
       "      <th>Santa's Gift</th>\n",
       "      <th>Mahmoud and Ehab and the even-odd game</th>\n",
       "      <th>Mahmoud and Ehab and the message</th>\n",
       "      <th>...</th>\n",
       "      <th>Danil and a Part-time Job</th>\n",
       "      <th>Ann and Books</th>\n",
       "      <th>Trip For Meal</th>\n",
       "      <th>Divisiblity of Differences</th>\n",
       "      <th>Classroom Watch</th>\n",
       "      <th>Sorting the Coins</th>\n",
       "      <th>National Property</th>\n",
       "      <th>High Cry</th>\n",
       "      <th>Delivery Club</th>\n",
       "      <th>Royal Questions</th>\n",
       "    </tr>\n",
       "  </thead>\n",
       "  <tbody>\n",
       "    <tr>\n",
       "      <th>OO0OOO00O0OOO0O00OOO0OO</th>\n",
       "      <td>3.0</td>\n",
       "      <td>5.0</td>\n",
       "      <td>6.0</td>\n",
       "      <td>13.0</td>\n",
       "      <td>12.0</td>\n",
       "      <td>9.0</td>\n",
       "      <td>34.0</td>\n",
       "      <td>49.0</td>\n",
       "      <td>NaN</td>\n",
       "      <td>NaN</td>\n",
       "      <td>...</td>\n",
       "      <td>NaN</td>\n",
       "      <td>NaN</td>\n",
       "      <td>NaN</td>\n",
       "      <td>NaN</td>\n",
       "      <td>NaN</td>\n",
       "      <td>NaN</td>\n",
       "      <td>NaN</td>\n",
       "      <td>NaN</td>\n",
       "      <td>NaN</td>\n",
       "      <td>NaN</td>\n",
       "    </tr>\n",
       "    <tr>\n",
       "      <th>Benq</th>\n",
       "      <td>2.0</td>\n",
       "      <td>3.0</td>\n",
       "      <td>6.0</td>\n",
       "      <td>14.0</td>\n",
       "      <td>NaN</td>\n",
       "      <td>10.0</td>\n",
       "      <td>42.0</td>\n",
       "      <td>47.0</td>\n",
       "      <td>NaN</td>\n",
       "      <td>NaN</td>\n",
       "      <td>...</td>\n",
       "      <td>NaN</td>\n",
       "      <td>NaN</td>\n",
       "      <td>NaN</td>\n",
       "      <td>NaN</td>\n",
       "      <td>NaN</td>\n",
       "      <td>NaN</td>\n",
       "      <td>NaN</td>\n",
       "      <td>NaN</td>\n",
       "      <td>NaN</td>\n",
       "      <td>NaN</td>\n",
       "    </tr>\n",
       "    <tr>\n",
       "      <th>Syloviaely</th>\n",
       "      <td>3.0</td>\n",
       "      <td>2.0</td>\n",
       "      <td>25.0</td>\n",
       "      <td>45.0</td>\n",
       "      <td>NaN</td>\n",
       "      <td>5.0</td>\n",
       "      <td>22.0</td>\n",
       "      <td>6.0</td>\n",
       "      <td>NaN</td>\n",
       "      <td>NaN</td>\n",
       "      <td>...</td>\n",
       "      <td>NaN</td>\n",
       "      <td>NaN</td>\n",
       "      <td>NaN</td>\n",
       "      <td>NaN</td>\n",
       "      <td>NaN</td>\n",
       "      <td>NaN</td>\n",
       "      <td>NaN</td>\n",
       "      <td>NaN</td>\n",
       "      <td>NaN</td>\n",
       "      <td>NaN</td>\n",
       "    </tr>\n",
       "    <tr>\n",
       "      <th>ainta</th>\n",
       "      <td>2.0</td>\n",
       "      <td>4.0</td>\n",
       "      <td>4.0</td>\n",
       "      <td>13.0</td>\n",
       "      <td>13.0</td>\n",
       "      <td>12.0</td>\n",
       "      <td>32.0</td>\n",
       "      <td>NaN</td>\n",
       "      <td>NaN</td>\n",
       "      <td>NaN</td>\n",
       "      <td>...</td>\n",
       "      <td>NaN</td>\n",
       "      <td>NaN</td>\n",
       "      <td>NaN</td>\n",
       "      <td>NaN</td>\n",
       "      <td>NaN</td>\n",
       "      <td>NaN</td>\n",
       "      <td>NaN</td>\n",
       "      <td>NaN</td>\n",
       "      <td>NaN</td>\n",
       "      <td>NaN</td>\n",
       "    </tr>\n",
       "    <tr>\n",
       "      <th>ko_osaga</th>\n",
       "      <td>3.0</td>\n",
       "      <td>4.0</td>\n",
       "      <td>5.0</td>\n",
       "      <td>17.0</td>\n",
       "      <td>10.0</td>\n",
       "      <td>9.0</td>\n",
       "      <td>52.0</td>\n",
       "      <td>NaN</td>\n",
       "      <td>NaN</td>\n",
       "      <td>NaN</td>\n",
       "      <td>...</td>\n",
       "      <td>NaN</td>\n",
       "      <td>NaN</td>\n",
       "      <td>NaN</td>\n",
       "      <td>NaN</td>\n",
       "      <td>NaN</td>\n",
       "      <td>NaN</td>\n",
       "      <td>NaN</td>\n",
       "      <td>NaN</td>\n",
       "      <td>NaN</td>\n",
       "      <td>NaN</td>\n",
       "    </tr>\n",
       "  </tbody>\n",
       "</table>\n",
       "<p>5 rows × 225 columns</p>\n",
       "</div>"
      ],
      "text/plain": [
       "                          Check the string  Minimize the error  \\\n",
       "OO0OOO00O0OOO0O00OOO0OO                3.0                 5.0   \n",
       "Benq                                   2.0                 3.0   \n",
       "Syloviaely                             3.0                 2.0   \n",
       "ainta                                  2.0                 4.0   \n",
       "ko_osaga                               3.0                 4.0   \n",
       "\n",
       "                          Subsequence Counting  Full Binary Tree Queries  \\\n",
       "OO0OOO00O0OOO0O00OOO0OO                    6.0                      13.0   \n",
       "Benq                                       6.0                      14.0   \n",
       "Syloviaely                                25.0                      45.0   \n",
       "ainta                                      4.0                      13.0   \n",
       "ko_osaga                                   5.0                      17.0   \n",
       "\n",
       "                          Alternating Tree  Pathwalks  Bandit Blues  \\\n",
       "OO0OOO00O0OOO0O00OOO0OO               12.0        9.0          34.0   \n",
       "Benq                                   NaN       10.0          42.0   \n",
       "Syloviaely                             NaN        5.0          22.0   \n",
       "ainta                                 13.0       12.0          32.0   \n",
       "ko_osaga                              10.0        9.0          52.0   \n",
       "\n",
       "                          Santa's Gift  \\\n",
       "OO0OOO00O0OOO0O00OOO0OO           49.0   \n",
       "Benq                              47.0   \n",
       "Syloviaely                         6.0   \n",
       "ainta                              NaN   \n",
       "ko_osaga                           NaN   \n",
       "\n",
       "                          Mahmoud and Ehab and the even-odd game  \\\n",
       "OO0OOO00O0OOO0O00OOO0OO                                      NaN   \n",
       "Benq                                                         NaN   \n",
       "Syloviaely                                                   NaN   \n",
       "ainta                                                        NaN   \n",
       "ko_osaga                                                     NaN   \n",
       "\n",
       "                          Mahmoud and Ehab and the message       ...         \\\n",
       "OO0OOO00O0OOO0O00OOO0OO                                NaN       ...          \n",
       "Benq                                                   NaN       ...          \n",
       "Syloviaely                                             NaN       ...          \n",
       "ainta                                                  NaN       ...          \n",
       "ko_osaga                                               NaN       ...          \n",
       "\n",
       "                          Danil and a Part-time Job  Ann and Books  \\\n",
       "OO0OOO00O0OOO0O00OOO0OO                         NaN            NaN   \n",
       "Benq                                            NaN            NaN   \n",
       "Syloviaely                                      NaN            NaN   \n",
       "ainta                                           NaN            NaN   \n",
       "ko_osaga                                        NaN            NaN   \n",
       "\n",
       "                          Trip For Meal  Divisiblity of Differences  \\\n",
       "OO0OOO00O0OOO0O00OOO0OO             NaN                         NaN   \n",
       "Benq                                NaN                         NaN   \n",
       "Syloviaely                          NaN                         NaN   \n",
       "ainta                               NaN                         NaN   \n",
       "ko_osaga                            NaN                         NaN   \n",
       "\n",
       "                          Classroom Watch  Sorting the Coins  \\\n",
       "OO0OOO00O0OOO0O00OOO0OO               NaN                NaN   \n",
       "Benq                                  NaN                NaN   \n",
       "Syloviaely                            NaN                NaN   \n",
       "ainta                                 NaN                NaN   \n",
       "ko_osaga                              NaN                NaN   \n",
       "\n",
       "                          National Property  High Cry  Delivery Club  \\\n",
       "OO0OOO00O0OOO0O00OOO0OO                 NaN       NaN            NaN   \n",
       "Benq                                    NaN       NaN            NaN   \n",
       "Syloviaely                              NaN       NaN            NaN   \n",
       "ainta                                   NaN       NaN            NaN   \n",
       "ko_osaga                                NaN       NaN            NaN   \n",
       "\n",
       "                          Royal Questions  \n",
       "OO0OOO00O0OOO0O00OOO0OO               NaN  \n",
       "Benq                                  NaN  \n",
       "Syloviaely                            NaN  \n",
       "ainta                                 NaN  \n",
       "ko_osaga                              NaN  \n",
       "\n",
       "[5 rows x 225 columns]"
      ]
     },
     "execution_count": 6,
     "metadata": {},
     "output_type": "execute_result"
    }
   ],
   "source": [
    "tab ={}\n",
    "problems = {}\n",
    "usr = {}\n",
    "\n",
    "with open(path+\"rounds.txt\",\"r\") as f:\n",
    "    names={}\n",
    "    with open(path+\"names.txt\",\"r\") as fn:\n",
    "        while True:\n",
    "            line = fn.readline()\n",
    "            if line == \"\":\n",
    "                break\n",
    "            temp = line.strip().split(\",\")\n",
    "            names[int(temp[0])]=temp[1:]\n",
    "cnt = 0\n",
    "cnt2 = 0\n",
    "for i in names:\n",
    "    for j in names[i]:\n",
    "        if not j in problems:\n",
    "            problems[j]=cnt\n",
    "            cnt += 1\n",
    "for i in names:\n",
    "    data = scio.loadmat(path+str(i)+\".mat\")[str(i)]\n",
    "    for j in data:\n",
    "        j = np.array(j).tolist()\n",
    "        if not j[0] in usr:\n",
    "            usr[j[0]] = cnt2\n",
    "            tab[j[0]] = {}\n",
    "            cnt2 += 1\n",
    "        for k in range(len(j[3:])):\n",
    "            if int(j[3+k]) != -1 :\n",
    "                tab[j[0]][names[i][k]] = j[3+k]\n",
    "hval = np.zeros((len(usr),len(problems)))\n",
    "val = np.zeros((len(usr),len(problems)))\n",
    "for i in tab:\n",
    "    for j in tab[i]:\n",
    "        hval[usr[i],problems[j]] = 1\n",
    "        val[usr[i],problems[j]] = tab[i][j]\n",
    "dataFile = path+'CF.mat'\n",
    "prb = np.asmatrix(np.array(list(problems.keys())))\n",
    "user = np.asmatrix(np.array(list(usr.keys())))\n",
    "scio.savemat(dataFile, {\"has_value\":hval, \"value\":val, \"problems\":prb, \"users\":user})\n",
    "\n",
    "prb = np.array(prb).tolist()[0]\n",
    "user = np.array(user).tolist()[0]\n",
    "val = val * hval - 1 + hval;# 没有值的地方置为-1\n",
    "\n",
    "df = pd.DataFrame(val)\n",
    "# 去除没有数据以及用时为0分钟的数据\n",
    "df = df[df>=1];\n",
    "df.set_axis(prb, axis=1, inplace=True);\n",
    "df.set_axis(user, axis=0, inplace=True);\n",
    "df.to_csv(path + \"CF.csv\",encoding = \"utf8\");\n",
    "df.head()"
   ]
  },
  {
   "cell_type": "code",
   "execution_count": 4,
   "metadata": {},
   "outputs": [],
   "source": [
    "out = []\n",
    "with open(path+\"names.txt\",\"r\") as fn:\n",
    "    while True:\n",
    "        line = fn.readline()\n",
    "        if line == \"\":\n",
    "            break\n",
    "        temp = line.strip().split(\",\")\n",
    "        out += [int(temp[0])]\n",
    "pd.DataFrame(out).to_csv(path+\"train_round.csv\")"
   ]
  },
  {
   "cell_type": "markdown",
   "metadata": {},
   "source": [
    "# 开始清洗数据"
   ]
  },
  {
   "cell_type": "markdown",
   "metadata": {},
   "source": [
    "### 查看数据分布"
   ]
  },
  {
   "cell_type": "code",
   "execution_count": 7,
   "metadata": {},
   "outputs": [],
   "source": [
    "plt.show()"
   ]
  },
  {
   "cell_type": "code",
   "execution_count": 8,
   "metadata": {},
   "outputs": [],
   "source": [
    "# 展示第i个题目的用时分布\n",
    "def show_figure(id):\n",
    "    pd.Series(dict(df[id].value_counts(sort = False, normalize = True))).plot(logx = True)"
   ]
  },
  {
   "cell_type": "code",
   "execution_count": 15,
   "metadata": {
    "scrolled": true
   },
   "outputs": [
    {
     "data": {
      "image/png": "[encoded data removed]",
      "text/plain": [
       "<Figure size 432x288 with 1 Axes>"
      ]
     },
     "metadata": {},
     "output_type": "display_data"
    }
   ],
   "source": [
    "# 一场div1 的通过时间分布\n",
    "for i in [\"Classroom Watch\", \"Sorting the Coins\", \"Danil and a Part-time Job\"]:\n",
    "    show_figure(i)"
   ]
  },
  {
   "cell_type": "markdown",
   "metadata": {},
   "source": [
    "* 可以看出在对题目用时取log之后，整体还是比较符合一个正态分布的"
   ]
  }
 ],
 "metadata": {
  "kernelspec": {
   "display_name": "Python 3",
   "language": "python",
   "name": "python3"
  },
  "language_info": {
   "codemirror_mode": {
    "name": "ipython",
    "version": 3
   },
   "file_extension": ".py",
   "mimetype": "text/x-python",
   "name": "python",
   "nbconvert_exporter": "python",
   "pygments_lexer": "ipython3",
   "version": "3.6.4"
  }
 },
 "nbformat": 4,
 "nbformat_minor": 2
}
