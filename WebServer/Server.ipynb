{
 "cells": [
  {
   "cell_type": "code",
   "execution_count": null,
   "metadata": {},
   "outputs": [
    {
     "name": "stdout",
     "output_type": "stream",
     "text": [
      "('127.0.0.1', 56463) connected\n",
      "('127.0.0.1', 56463) closed\n",
      "('127.0.0.1', 56990) connected\n",
      "('127.0.0.1', 56990) closed\n",
      "('127.0.0.1', 57058) connected\n",
      "('127.0.0.1', 57058) closed\n"
     ]
    }
   ],
   "source": [
    "from SimpleWebSocketServer import SimpleWebSocketServer, WebSocket\n",
    "\n",
    "class SimpleEcho(WebSocket):\n",
    "\n",
    "    def handleMessage(self):\n",
    "        # echo message back to client\n",
    "        self.sendMessage(\"233\")\n",
    "\n",
    "    def handleConnected(self):\n",
    "        print(self.address, 'connected')\n",
    "\n",
    "    def handleClose(self):\n",
    "        print(self.address, 'closed')\n",
    "\n",
    "server = SimpleWebSocketServer('', 2339, SimpleEcho)\n",
    "server.serveforever()"
   ]
  }
 ],
 "metadata": {
  "kernelspec": {
   "display_name": "Python 3",
   "language": "python",
   "name": "python3"
  },
  "language_info": {
   "codemirror_mode": {
    "name": "ipython",
    "version": 3
   },
   "file_extension": ".py",
   "mimetype": "text/x-python",
   "name": "python",
   "nbconvert_exporter": "python",
   "pygments_lexer": "ipython3",
   "version": "3.6.4"
  }
 },
 "nbformat": 4,
 "nbformat_minor": 2
}
